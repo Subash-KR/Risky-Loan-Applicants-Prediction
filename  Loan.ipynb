{
 "cells": [
  {
   "cell_type": "markdown",
   "id": "fffd8a17",
   "metadata": {},
   "source": [
    "<table align=\"center\" width=100%>\n",
    "        <td>\n",
    "            <div align=\"center\">\n",
    "                <font color=\"#21618C\" size=5px>\n",
    "                    <b>LOAN DATASET CASE STUDY\n",
    "                    </b>  \n",
    "                </font>\n",
    "            </div>\n",
    "        </td>"
   ]
  },
  {
   "cell_type": "markdown",
   "id": "9169f9a6",
   "metadata": {},
   "source": [
    "<a id=\"statement\"><a>\n",
    "## Problem Statement:\n",
    "In this Case study we need to use Loans dataset with the aim to identify variables which indicate if a person is likely to default.With the Exploratory Data Analysis here, we have to identify the risky loan applicants to avoid any financial loss to the company.\n"
   ]
  },
  {
   "cell_type": "markdown",
   "id": "f2d42792",
   "metadata": {},
   "source": [
    "<a id=\"discription\"><a>\n",
    "## DataSet Description :\n",
    "It contains the complete loan data for all loans issued through the time period 2007 to 2011."
   ]
  },
  {
   "cell_type": "markdown",
   "id": "07b0536c",
   "metadata": {},
   "source": [
    "<a id=\"dictionary\"><a>\n",
    "## Data Dictionary :\n",
    "* **annual_inc** - The self-reported annual income provided by the borrower during registration.\n",
    "* **dti** - A ratio calculated using the borrower’s total monthly debt payments on the total debt obligations, excluding mortgage and the requested LC loan,divided by the borrower’s self-reported monthly income.\n",
    "* **emp_length** -Employment length in years. Possible values are between 0 and 10 where 0 means less than one year and 10 means ten or more years.\n",
    "* **funded_amnt** - The total amount committed to that loan at that point in time.\n",
    "* **funded_amnt_inv** -The total amount committed by investors for that loan at that point in time.\n",
    "* **grade** - LC assigned loan grade\n",
    "* **id** - A unique LC assigned ID for the loan listing.\n",
    "* **installment** - The monthly payment owed by the borrower if the loan originates.\n",
    "* **int_rate** - Interest Rate on the loan\n",
    "* **last_pymnt_amnt**-Last total payment amount received\n",
    "* **last_pymnt_d** -Last month payment was received\n",
    "* **loan_amnt** -The listed amount of the loan applied for by the borrower. If atsome point in time, the credit departmentreduces the loan amount, then it will be reflected in this value.\n",
    "* **loan_status** - Current status of the loan\n",
    "* **member_id** -A unique LC assigned Id for the borrower member.\n",
    "* **purpose** - A category provided by the borrower for the loan request.\n",
    "* **term** -The number of payments on the loan. Values are in months and can be either 36 or 60.\n",
    "* **total_acc** -The total number of credit lines currently in the borrower's credit file\n",
    "* **total_pymnt** -Payments received to date for total amount funded\n",
    "* **total_pymnt_inv** -Payments received to date for portion of total amount funded by investors\n",
    "* **total_rec_int** -Interest received to date"
   ]
  },
  {
   "cell_type": "markdown",
   "id": "4dd33f8f",
   "metadata": {},
   "source": [
    "<a id=\"data\"><a>\n",
    "## Understanding the data\n"
   ]
  },
  {
   "cell_type": "markdown",
   "id": "a3d8ef9b",
   "metadata": {},
   "source": [
    "### Import the libraries"
   ]
  },
  {
   "cell_type": "code",
   "execution_count": 2,
   "id": "c9740a03",
   "metadata": {},
   "outputs": [],
   "source": [
    "# Import the required libraries\n",
    "import numpy as np # Import numpy library to perform mathematical functions\n",
    "import pandas as pd # Import pandas to perform operations on dataset\n",
    "import matplotlib.pyplot as plt # Import matplotlib for visualization tools\n",
    "import seaborn as sns # Import seaborn for advanced visualization tools\n",
    "import warnings # Import warnings library \n",
    "warnings.filterwarnings('ignore') # Ignore warnings during code execution"
   ]
  },
  {
   "cell_type": "markdown",
   "id": "37bbacb7",
   "metadata": {},
   "source": [
    "### Import the dataset "
   ]
  },
  {
   "cell_type": "code",
   "execution_count": 3,
   "id": "8aad3077",
   "metadata": {},
   "outputs": [
    {
     "data": {
      "text/html": [
       "<div>\n",
       "<style scoped>\n",
       "    .dataframe tbody tr th:only-of-type {\n",
       "        vertical-align: middle;\n",
       "    }\n",
       "\n",
       "    .dataframe tbody tr th {\n",
       "        vertical-align: top;\n",
       "    }\n",
       "\n",
       "    .dataframe thead th {\n",
       "        text-align: right;\n",
       "    }\n",
       "</style>\n",
       "<table border=\"1\" class=\"dataframe\">\n",
       "  <thead>\n",
       "    <tr style=\"text-align: right;\">\n",
       "      <th></th>\n",
       "      <th>id</th>\n",
       "      <th>member_id</th>\n",
       "      <th>loan_amnt</th>\n",
       "      <th>funded_amnt</th>\n",
       "      <th>funded_amnt_inv</th>\n",
       "      <th>term</th>\n",
       "      <th>int_rate</th>\n",
       "      <th>installment</th>\n",
       "      <th>grade</th>\n",
       "      <th>emp_length</th>\n",
       "      <th>...</th>\n",
       "      <th>purpose</th>\n",
       "      <th>dti</th>\n",
       "      <th>total_pymnt</th>\n",
       "      <th>total_pymnt_inv</th>\n",
       "      <th>total_rec_prncp</th>\n",
       "      <th>total_rec_int</th>\n",
       "      <th>last_pymnt_d</th>\n",
       "      <th>last_pymnt_amnt</th>\n",
       "      <th>Unnamed: 21</th>\n",
       "      <th>Unnamed: 22</th>\n",
       "    </tr>\n",
       "  </thead>\n",
       "  <tbody>\n",
       "    <tr>\n",
       "      <th>0</th>\n",
       "      <td>1077501</td>\n",
       "      <td>1296599</td>\n",
       "      <td>5000</td>\n",
       "      <td>5000</td>\n",
       "      <td>4975.0</td>\n",
       "      <td>36 months</td>\n",
       "      <td>10.65%</td>\n",
       "      <td>162.87</td>\n",
       "      <td>B</td>\n",
       "      <td>10+ years</td>\n",
       "      <td>...</td>\n",
       "      <td>credit_card</td>\n",
       "      <td>27.65</td>\n",
       "      <td>5863.155187</td>\n",
       "      <td>5833.84</td>\n",
       "      <td>5000.00</td>\n",
       "      <td>863.16</td>\n",
       "      <td>Jan-15</td>\n",
       "      <td>171.62</td>\n",
       "      <td>NaN</td>\n",
       "      <td>NaN</td>\n",
       "    </tr>\n",
       "    <tr>\n",
       "      <th>1</th>\n",
       "      <td>1077430</td>\n",
       "      <td>1314167</td>\n",
       "      <td>2500</td>\n",
       "      <td>2500</td>\n",
       "      <td>2500.0</td>\n",
       "      <td>60 months</td>\n",
       "      <td>15.27%</td>\n",
       "      <td>59.83</td>\n",
       "      <td>C</td>\n",
       "      <td>&lt; 1 year</td>\n",
       "      <td>...</td>\n",
       "      <td>car</td>\n",
       "      <td>1.00</td>\n",
       "      <td>1008.710000</td>\n",
       "      <td>1008.71</td>\n",
       "      <td>456.46</td>\n",
       "      <td>435.17</td>\n",
       "      <td>Apr-13</td>\n",
       "      <td>119.66</td>\n",
       "      <td>NaN</td>\n",
       "      <td>NaN</td>\n",
       "    </tr>\n",
       "    <tr>\n",
       "      <th>2</th>\n",
       "      <td>1077175</td>\n",
       "      <td>1313524</td>\n",
       "      <td>2400</td>\n",
       "      <td>2400</td>\n",
       "      <td>2400.0</td>\n",
       "      <td>36 months</td>\n",
       "      <td>15.96%</td>\n",
       "      <td>84.33</td>\n",
       "      <td>C</td>\n",
       "      <td>10+ years</td>\n",
       "      <td>...</td>\n",
       "      <td>small_business</td>\n",
       "      <td>8.72</td>\n",
       "      <td>3005.666844</td>\n",
       "      <td>3005.67</td>\n",
       "      <td>2400.00</td>\n",
       "      <td>605.67</td>\n",
       "      <td>Jun-14</td>\n",
       "      <td>649.91</td>\n",
       "      <td>NaN</td>\n",
       "      <td>NaN</td>\n",
       "    </tr>\n",
       "    <tr>\n",
       "      <th>3</th>\n",
       "      <td>1076863</td>\n",
       "      <td>1277178</td>\n",
       "      <td>10000</td>\n",
       "      <td>10000</td>\n",
       "      <td>10000.0</td>\n",
       "      <td>36 months</td>\n",
       "      <td>13.49%</td>\n",
       "      <td>339.31</td>\n",
       "      <td>C</td>\n",
       "      <td>10+ years</td>\n",
       "      <td>...</td>\n",
       "      <td>other</td>\n",
       "      <td>20.00</td>\n",
       "      <td>12231.890000</td>\n",
       "      <td>12231.89</td>\n",
       "      <td>10000.00</td>\n",
       "      <td>2214.92</td>\n",
       "      <td>Jan-15</td>\n",
       "      <td>357.48</td>\n",
       "      <td>NaN</td>\n",
       "      <td>NaN</td>\n",
       "    </tr>\n",
       "    <tr>\n",
       "      <th>4</th>\n",
       "      <td>1075358</td>\n",
       "      <td>1311748</td>\n",
       "      <td>3000</td>\n",
       "      <td>3000</td>\n",
       "      <td>3000.0</td>\n",
       "      <td>60 months</td>\n",
       "      <td>12.69%</td>\n",
       "      <td>67.79</td>\n",
       "      <td>B</td>\n",
       "      <td>1 year</td>\n",
       "      <td>...</td>\n",
       "      <td>other</td>\n",
       "      <td>17.94</td>\n",
       "      <td>3513.330000</td>\n",
       "      <td>3513.33</td>\n",
       "      <td>2475.94</td>\n",
       "      <td>1037.39</td>\n",
       "      <td>May-16</td>\n",
       "      <td>67.79</td>\n",
       "      <td>NaN</td>\n",
       "      <td>NaN</td>\n",
       "    </tr>\n",
       "  </tbody>\n",
       "</table>\n",
       "<p>5 rows × 23 columns</p>\n",
       "</div>"
      ],
      "text/plain": [
       "        id  member_id  loan_amnt  funded_amnt  funded_amnt_inv        term  \\\n",
       "0  1077501    1296599       5000         5000           4975.0   36 months   \n",
       "1  1077430    1314167       2500         2500           2500.0   60 months   \n",
       "2  1077175    1313524       2400         2400           2400.0   36 months   \n",
       "3  1076863    1277178      10000        10000          10000.0   36 months   \n",
       "4  1075358    1311748       3000         3000           3000.0   60 months   \n",
       "\n",
       "  int_rate  installment grade emp_length  ...         purpose    dti  \\\n",
       "0   10.65%       162.87     B  10+ years  ...     credit_card  27.65   \n",
       "1   15.27%        59.83     C   < 1 year  ...             car   1.00   \n",
       "2   15.96%        84.33     C  10+ years  ...  small_business   8.72   \n",
       "3   13.49%       339.31     C  10+ years  ...           other  20.00   \n",
       "4   12.69%        67.79     B     1 year  ...           other  17.94   \n",
       "\n",
       "    total_pymnt total_pymnt_inv  total_rec_prncp  total_rec_int  last_pymnt_d  \\\n",
       "0   5863.155187         5833.84          5000.00         863.16        Jan-15   \n",
       "1   1008.710000         1008.71           456.46         435.17        Apr-13   \n",
       "2   3005.666844         3005.67          2400.00         605.67        Jun-14   \n",
       "3  12231.890000        12231.89         10000.00        2214.92        Jan-15   \n",
       "4   3513.330000         3513.33          2475.94        1037.39        May-16   \n",
       "\n",
       "   last_pymnt_amnt  Unnamed: 21 Unnamed: 22  \n",
       "0           171.62          NaN         NaN  \n",
       "1           119.66          NaN         NaN  \n",
       "2           649.91          NaN         NaN  \n",
       "3           357.48          NaN         NaN  \n",
       "4            67.79          NaN         NaN  \n",
       "\n",
       "[5 rows x 23 columns]"
      ]
     },
     "execution_count": 3,
     "metadata": {},
     "output_type": "execute_result"
    }
   ],
   "source": [
    "#Importing the data file\n",
    "df = pd.read_csv(\"loan.csv\")\n",
    "df\n",
    "\n",
    "#To understand the data extract the first five rows using head function\n",
    "df.head()"
   ]
  },
  {
   "cell_type": "markdown",
   "id": "73b9b7bf",
   "metadata": {},
   "source": [
    "### No. Of rows and Columns"
   ]
  },
  {
   "cell_type": "code",
   "execution_count": 4,
   "id": "7f056be4",
   "metadata": {},
   "outputs": [
    {
     "name": "stdout",
     "output_type": "stream",
     "text": [
      "Number of rows - 39717\n",
      "Number of columns - 23\n"
     ]
    }
   ],
   "source": [
    "print (\"Number of rows -\",len(df)) # print no of rows\n",
    "print(\"Number of columns -\",len(df.columns)) # print no of columns"
   ]
  },
  {
   "cell_type": "markdown",
   "id": "326d3667",
   "metadata": {},
   "source": [
    "### Conversion of Character type into float type"
   ]
  },
  {
   "cell_type": "markdown",
   "id": "5bcad888",
   "metadata": {},
   "source": [
    "#### ‘Int_rate’ column is character type. converting it into float type."
   ]
  },
  {
   "cell_type": "code",
   "execution_count": 5,
   "id": "cd26e312",
   "metadata": {},
   "outputs": [
    {
     "data": {
      "text/plain": [
       "0        10.65\n",
       "1        15.27\n",
       "2        15.96\n",
       "3        13.49\n",
       "4        12.69\n",
       "         ...  \n",
       "39712     8.07\n",
       "39713    10.28\n",
       "39714     8.07\n",
       "39715     7.43\n",
       "39716    13.75\n",
       "Name: int_rate, Length: 39717, dtype: float64"
      ]
     },
     "execution_count": 5,
     "metadata": {},
     "output_type": "execute_result"
    }
   ],
   "source": [
    "#‘Int_rate’ column is character type. With the help of lambda function convert into float type.\n",
    "df['int_rate']= df[\"int_rate\"].apply(lambda x : float(x.strip(\"%\")))\n",
    "df['int_rate']"
   ]
  },
  {
   "cell_type": "markdown",
   "id": "cb93afc5",
   "metadata": {},
   "source": [
    "### To display the  datatype of each column"
   ]
  },
  {
   "cell_type": "code",
   "execution_count": 6,
   "id": "00f3d3de",
   "metadata": {},
   "outputs": [
    {
     "name": "stdout",
     "output_type": "stream",
     "text": [
      "<class 'pandas.core.frame.DataFrame'>\n",
      "RangeIndex: 39717 entries, 0 to 39716\n",
      "Data columns (total 23 columns):\n",
      " #   Column               Non-Null Count  Dtype  \n",
      "---  ------               --------------  -----  \n",
      " 0   id                   39717 non-null  int64  \n",
      " 1   member_id            39717 non-null  int64  \n",
      " 2   loan_amnt            39717 non-null  int64  \n",
      " 3   funded_amnt          39717 non-null  int64  \n",
      " 4   funded_amnt_inv      39717 non-null  float64\n",
      " 5   term                 39717 non-null  object \n",
      " 6   int_rate             39717 non-null  float64\n",
      " 7   installment          39717 non-null  float64\n",
      " 8   grade                39717 non-null  object \n",
      " 9   emp_length           38642 non-null  object \n",
      " 10  annual_inc           39717 non-null  float64\n",
      " 11  verification_status  39717 non-null  object \n",
      " 12  loan_status          39717 non-null  object \n",
      " 13  purpose              39717 non-null  object \n",
      " 14  dti                  39717 non-null  float64\n",
      " 15  total_pymnt          39717 non-null  float64\n",
      " 16  total_pymnt_inv      39717 non-null  float64\n",
      " 17  total_rec_prncp      39717 non-null  float64\n",
      " 18  total_rec_int        39717 non-null  float64\n",
      " 19  last_pymnt_d         39646 non-null  object \n",
      " 20  last_pymnt_amnt      39717 non-null  float64\n",
      " 21  Unnamed: 21          0 non-null      float64\n",
      " 22  Unnamed: 22          0 non-null      float64\n",
      "dtypes: float64(12), int64(4), object(7)\n",
      "memory usage: 7.0+ MB\n"
     ]
    }
   ],
   "source": [
    "# To display the type of data in each column \n",
    "df.info()"
   ]
  },
  {
   "cell_type": "markdown",
   "id": "487bfd64",
   "metadata": {},
   "source": [
    "<a id=\"Cleandata\"><a>\n",
    "## Cleaning the data"
   ]
  },
  {
   "cell_type": "markdown",
   "id": "099ca3cf",
   "metadata": {},
   "source": [
    "### Removing the columns having complete NaN value in the entire dataset."
   ]
  },
  {
   "cell_type": "code",
   "execution_count": 7,
   "id": "dade3330",
   "metadata": {},
   "outputs": [
    {
     "data": {
      "text/html": [
       "<div>\n",
       "<style scoped>\n",
       "    .dataframe tbody tr th:only-of-type {\n",
       "        vertical-align: middle;\n",
       "    }\n",
       "\n",
       "    .dataframe tbody tr th {\n",
       "        vertical-align: top;\n",
       "    }\n",
       "\n",
       "    .dataframe thead th {\n",
       "        text-align: right;\n",
       "    }\n",
       "</style>\n",
       "<table border=\"1\" class=\"dataframe\">\n",
       "  <thead>\n",
       "    <tr style=\"text-align: right;\">\n",
       "      <th></th>\n",
       "      <th>id</th>\n",
       "      <th>member_id</th>\n",
       "      <th>loan_amnt</th>\n",
       "      <th>funded_amnt</th>\n",
       "      <th>funded_amnt_inv</th>\n",
       "      <th>term</th>\n",
       "      <th>int_rate</th>\n",
       "      <th>installment</th>\n",
       "      <th>grade</th>\n",
       "      <th>emp_length</th>\n",
       "      <th>...</th>\n",
       "      <th>verification_status</th>\n",
       "      <th>loan_status</th>\n",
       "      <th>purpose</th>\n",
       "      <th>dti</th>\n",
       "      <th>total_pymnt</th>\n",
       "      <th>total_pymnt_inv</th>\n",
       "      <th>total_rec_prncp</th>\n",
       "      <th>total_rec_int</th>\n",
       "      <th>last_pymnt_d</th>\n",
       "      <th>last_pymnt_amnt</th>\n",
       "    </tr>\n",
       "  </thead>\n",
       "  <tbody>\n",
       "    <tr>\n",
       "      <th>0</th>\n",
       "      <td>1077501</td>\n",
       "      <td>1296599</td>\n",
       "      <td>5000</td>\n",
       "      <td>5000</td>\n",
       "      <td>4975.0</td>\n",
       "      <td>36 months</td>\n",
       "      <td>10.65</td>\n",
       "      <td>162.87</td>\n",
       "      <td>B</td>\n",
       "      <td>10+ years</td>\n",
       "      <td>...</td>\n",
       "      <td>Verified</td>\n",
       "      <td>Fully Paid</td>\n",
       "      <td>credit_card</td>\n",
       "      <td>27.65</td>\n",
       "      <td>5863.155187</td>\n",
       "      <td>5833.84</td>\n",
       "      <td>5000.00</td>\n",
       "      <td>863.16</td>\n",
       "      <td>Jan-15</td>\n",
       "      <td>171.62</td>\n",
       "    </tr>\n",
       "    <tr>\n",
       "      <th>1</th>\n",
       "      <td>1077430</td>\n",
       "      <td>1314167</td>\n",
       "      <td>2500</td>\n",
       "      <td>2500</td>\n",
       "      <td>2500.0</td>\n",
       "      <td>60 months</td>\n",
       "      <td>15.27</td>\n",
       "      <td>59.83</td>\n",
       "      <td>C</td>\n",
       "      <td>&lt; 1 year</td>\n",
       "      <td>...</td>\n",
       "      <td>Source Verified</td>\n",
       "      <td>Charged Off</td>\n",
       "      <td>car</td>\n",
       "      <td>1.00</td>\n",
       "      <td>1008.710000</td>\n",
       "      <td>1008.71</td>\n",
       "      <td>456.46</td>\n",
       "      <td>435.17</td>\n",
       "      <td>Apr-13</td>\n",
       "      <td>119.66</td>\n",
       "    </tr>\n",
       "    <tr>\n",
       "      <th>2</th>\n",
       "      <td>1077175</td>\n",
       "      <td>1313524</td>\n",
       "      <td>2400</td>\n",
       "      <td>2400</td>\n",
       "      <td>2400.0</td>\n",
       "      <td>36 months</td>\n",
       "      <td>15.96</td>\n",
       "      <td>84.33</td>\n",
       "      <td>C</td>\n",
       "      <td>10+ years</td>\n",
       "      <td>...</td>\n",
       "      <td>Not Verified</td>\n",
       "      <td>Fully Paid</td>\n",
       "      <td>small_business</td>\n",
       "      <td>8.72</td>\n",
       "      <td>3005.666844</td>\n",
       "      <td>3005.67</td>\n",
       "      <td>2400.00</td>\n",
       "      <td>605.67</td>\n",
       "      <td>Jun-14</td>\n",
       "      <td>649.91</td>\n",
       "    </tr>\n",
       "    <tr>\n",
       "      <th>3</th>\n",
       "      <td>1076863</td>\n",
       "      <td>1277178</td>\n",
       "      <td>10000</td>\n",
       "      <td>10000</td>\n",
       "      <td>10000.0</td>\n",
       "      <td>36 months</td>\n",
       "      <td>13.49</td>\n",
       "      <td>339.31</td>\n",
       "      <td>C</td>\n",
       "      <td>10+ years</td>\n",
       "      <td>...</td>\n",
       "      <td>Source Verified</td>\n",
       "      <td>Fully Paid</td>\n",
       "      <td>other</td>\n",
       "      <td>20.00</td>\n",
       "      <td>12231.890000</td>\n",
       "      <td>12231.89</td>\n",
       "      <td>10000.00</td>\n",
       "      <td>2214.92</td>\n",
       "      <td>Jan-15</td>\n",
       "      <td>357.48</td>\n",
       "    </tr>\n",
       "    <tr>\n",
       "      <th>4</th>\n",
       "      <td>1075358</td>\n",
       "      <td>1311748</td>\n",
       "      <td>3000</td>\n",
       "      <td>3000</td>\n",
       "      <td>3000.0</td>\n",
       "      <td>60 months</td>\n",
       "      <td>12.69</td>\n",
       "      <td>67.79</td>\n",
       "      <td>B</td>\n",
       "      <td>1 year</td>\n",
       "      <td>...</td>\n",
       "      <td>Source Verified</td>\n",
       "      <td>Current</td>\n",
       "      <td>other</td>\n",
       "      <td>17.94</td>\n",
       "      <td>3513.330000</td>\n",
       "      <td>3513.33</td>\n",
       "      <td>2475.94</td>\n",
       "      <td>1037.39</td>\n",
       "      <td>May-16</td>\n",
       "      <td>67.79</td>\n",
       "    </tr>\n",
       "    <tr>\n",
       "      <th>...</th>\n",
       "      <td>...</td>\n",
       "      <td>...</td>\n",
       "      <td>...</td>\n",
       "      <td>...</td>\n",
       "      <td>...</td>\n",
       "      <td>...</td>\n",
       "      <td>...</td>\n",
       "      <td>...</td>\n",
       "      <td>...</td>\n",
       "      <td>...</td>\n",
       "      <td>...</td>\n",
       "      <td>...</td>\n",
       "      <td>...</td>\n",
       "      <td>...</td>\n",
       "      <td>...</td>\n",
       "      <td>...</td>\n",
       "      <td>...</td>\n",
       "      <td>...</td>\n",
       "      <td>...</td>\n",
       "      <td>...</td>\n",
       "      <td>...</td>\n",
       "    </tr>\n",
       "    <tr>\n",
       "      <th>39712</th>\n",
       "      <td>92187</td>\n",
       "      <td>92174</td>\n",
       "      <td>2500</td>\n",
       "      <td>2500</td>\n",
       "      <td>1075.0</td>\n",
       "      <td>36 months</td>\n",
       "      <td>8.07</td>\n",
       "      <td>78.42</td>\n",
       "      <td>A</td>\n",
       "      <td>4 years</td>\n",
       "      <td>...</td>\n",
       "      <td>Not Verified</td>\n",
       "      <td>Fully Paid</td>\n",
       "      <td>home_improvement</td>\n",
       "      <td>11.33</td>\n",
       "      <td>2822.969293</td>\n",
       "      <td>1213.88</td>\n",
       "      <td>2500.00</td>\n",
       "      <td>322.97</td>\n",
       "      <td>Jul-10</td>\n",
       "      <td>80.90</td>\n",
       "    </tr>\n",
       "    <tr>\n",
       "      <th>39713</th>\n",
       "      <td>90665</td>\n",
       "      <td>90607</td>\n",
       "      <td>8500</td>\n",
       "      <td>8500</td>\n",
       "      <td>875.0</td>\n",
       "      <td>36 months</td>\n",
       "      <td>10.28</td>\n",
       "      <td>275.38</td>\n",
       "      <td>C</td>\n",
       "      <td>3 years</td>\n",
       "      <td>...</td>\n",
       "      <td>Not Verified</td>\n",
       "      <td>Fully Paid</td>\n",
       "      <td>credit_card</td>\n",
       "      <td>6.40</td>\n",
       "      <td>9913.491822</td>\n",
       "      <td>1020.51</td>\n",
       "      <td>8500.00</td>\n",
       "      <td>1413.49</td>\n",
       "      <td>Jul-10</td>\n",
       "      <td>281.94</td>\n",
       "    </tr>\n",
       "    <tr>\n",
       "      <th>39714</th>\n",
       "      <td>90395</td>\n",
       "      <td>90390</td>\n",
       "      <td>5000</td>\n",
       "      <td>5000</td>\n",
       "      <td>1325.0</td>\n",
       "      <td>36 months</td>\n",
       "      <td>8.07</td>\n",
       "      <td>156.84</td>\n",
       "      <td>A</td>\n",
       "      <td>&lt; 1 year</td>\n",
       "      <td>...</td>\n",
       "      <td>Not Verified</td>\n",
       "      <td>Fully Paid</td>\n",
       "      <td>debt_consolidation</td>\n",
       "      <td>2.30</td>\n",
       "      <td>5272.161128</td>\n",
       "      <td>1397.12</td>\n",
       "      <td>5000.00</td>\n",
       "      <td>272.16</td>\n",
       "      <td>Apr-08</td>\n",
       "      <td>0.00</td>\n",
       "    </tr>\n",
       "    <tr>\n",
       "      <th>39715</th>\n",
       "      <td>90376</td>\n",
       "      <td>89243</td>\n",
       "      <td>5000</td>\n",
       "      <td>5000</td>\n",
       "      <td>650.0</td>\n",
       "      <td>36 months</td>\n",
       "      <td>7.43</td>\n",
       "      <td>155.38</td>\n",
       "      <td>A</td>\n",
       "      <td>&lt; 1 year</td>\n",
       "      <td>...</td>\n",
       "      <td>Not Verified</td>\n",
       "      <td>Fully Paid</td>\n",
       "      <td>other</td>\n",
       "      <td>3.72</td>\n",
       "      <td>5174.198551</td>\n",
       "      <td>672.66</td>\n",
       "      <td>5000.00</td>\n",
       "      <td>174.20</td>\n",
       "      <td>Jan-08</td>\n",
       "      <td>0.00</td>\n",
       "    </tr>\n",
       "    <tr>\n",
       "      <th>39716</th>\n",
       "      <td>87023</td>\n",
       "      <td>86999</td>\n",
       "      <td>7500</td>\n",
       "      <td>7500</td>\n",
       "      <td>800.0</td>\n",
       "      <td>36 months</td>\n",
       "      <td>13.75</td>\n",
       "      <td>255.43</td>\n",
       "      <td>E</td>\n",
       "      <td>&lt; 1 year</td>\n",
       "      <td>...</td>\n",
       "      <td>Not Verified</td>\n",
       "      <td>Fully Paid</td>\n",
       "      <td>debt_consolidation</td>\n",
       "      <td>14.29</td>\n",
       "      <td>9195.263334</td>\n",
       "      <td>980.83</td>\n",
       "      <td>7500.00</td>\n",
       "      <td>1695.26</td>\n",
       "      <td>Jun-10</td>\n",
       "      <td>256.59</td>\n",
       "    </tr>\n",
       "  </tbody>\n",
       "</table>\n",
       "<p>39717 rows × 21 columns</p>\n",
       "</div>"
      ],
      "text/plain": [
       "            id  member_id  loan_amnt  funded_amnt  funded_amnt_inv  \\\n",
       "0      1077501    1296599       5000         5000           4975.0   \n",
       "1      1077430    1314167       2500         2500           2500.0   \n",
       "2      1077175    1313524       2400         2400           2400.0   \n",
       "3      1076863    1277178      10000        10000          10000.0   \n",
       "4      1075358    1311748       3000         3000           3000.0   \n",
       "...        ...        ...        ...          ...              ...   \n",
       "39712    92187      92174       2500         2500           1075.0   \n",
       "39713    90665      90607       8500         8500            875.0   \n",
       "39714    90395      90390       5000         5000           1325.0   \n",
       "39715    90376      89243       5000         5000            650.0   \n",
       "39716    87023      86999       7500         7500            800.0   \n",
       "\n",
       "             term  int_rate  installment grade emp_length  ...  \\\n",
       "0       36 months     10.65       162.87     B  10+ years  ...   \n",
       "1       60 months     15.27        59.83     C   < 1 year  ...   \n",
       "2       36 months     15.96        84.33     C  10+ years  ...   \n",
       "3       36 months     13.49       339.31     C  10+ years  ...   \n",
       "4       60 months     12.69        67.79     B     1 year  ...   \n",
       "...           ...       ...          ...   ...        ...  ...   \n",
       "39712   36 months      8.07        78.42     A    4 years  ...   \n",
       "39713   36 months     10.28       275.38     C    3 years  ...   \n",
       "39714   36 months      8.07       156.84     A   < 1 year  ...   \n",
       "39715   36 months      7.43       155.38     A   < 1 year  ...   \n",
       "39716   36 months     13.75       255.43     E   < 1 year  ...   \n",
       "\n",
       "       verification_status  loan_status             purpose    dti  \\\n",
       "0                 Verified   Fully Paid         credit_card  27.65   \n",
       "1          Source Verified  Charged Off                 car   1.00   \n",
       "2             Not Verified   Fully Paid      small_business   8.72   \n",
       "3          Source Verified   Fully Paid               other  20.00   \n",
       "4          Source Verified      Current               other  17.94   \n",
       "...                    ...          ...                 ...    ...   \n",
       "39712         Not Verified   Fully Paid    home_improvement  11.33   \n",
       "39713         Not Verified   Fully Paid         credit_card   6.40   \n",
       "39714         Not Verified   Fully Paid  debt_consolidation   2.30   \n",
       "39715         Not Verified   Fully Paid               other   3.72   \n",
       "39716         Not Verified   Fully Paid  debt_consolidation  14.29   \n",
       "\n",
       "        total_pymnt  total_pymnt_inv  total_rec_prncp  total_rec_int  \\\n",
       "0       5863.155187          5833.84          5000.00         863.16   \n",
       "1       1008.710000          1008.71           456.46         435.17   \n",
       "2       3005.666844          3005.67          2400.00         605.67   \n",
       "3      12231.890000         12231.89         10000.00        2214.92   \n",
       "4       3513.330000          3513.33          2475.94        1037.39   \n",
       "...             ...              ...              ...            ...   \n",
       "39712   2822.969293          1213.88          2500.00         322.97   \n",
       "39713   9913.491822          1020.51          8500.00        1413.49   \n",
       "39714   5272.161128          1397.12          5000.00         272.16   \n",
       "39715   5174.198551           672.66          5000.00         174.20   \n",
       "39716   9195.263334           980.83          7500.00        1695.26   \n",
       "\n",
       "       last_pymnt_d last_pymnt_amnt  \n",
       "0            Jan-15          171.62  \n",
       "1            Apr-13          119.66  \n",
       "2            Jun-14          649.91  \n",
       "3            Jan-15          357.48  \n",
       "4            May-16           67.79  \n",
       "...             ...             ...  \n",
       "39712        Jul-10           80.90  \n",
       "39713        Jul-10          281.94  \n",
       "39714        Apr-08            0.00  \n",
       "39715        Jan-08            0.00  \n",
       "39716        Jun-10          256.59  \n",
       "\n",
       "[39717 rows x 21 columns]"
      ]
     },
     "execution_count": 7,
     "metadata": {},
     "output_type": "execute_result"
    }
   ],
   "source": [
    "#At first,removing the columns having complete NaN value in the entire dataset\n",
    "\n",
    "df.drop([\"Unnamed: 21\",\"Unnamed: 22\"],axis=1,inplace=True)\n",
    "df"
   ]
  },
  {
   "cell_type": "markdown",
   "id": "367ec482",
   "metadata": {},
   "source": [
    "#### Checking null values in pending columns"
   ]
  },
  {
   "cell_type": "code",
   "execution_count": 8,
   "id": "ccad0793",
   "metadata": {},
   "outputs": [
    {
     "data": {
      "text/plain": [
       "id                        0\n",
       "member_id                 0\n",
       "loan_amnt                 0\n",
       "funded_amnt               0\n",
       "funded_amnt_inv           0\n",
       "term                      0\n",
       "int_rate                  0\n",
       "installment               0\n",
       "grade                     0\n",
       "emp_length             1075\n",
       "annual_inc                0\n",
       "verification_status       0\n",
       "loan_status               0\n",
       "purpose                   0\n",
       "dti                       0\n",
       "total_pymnt               0\n",
       "total_pymnt_inv           0\n",
       "total_rec_prncp           0\n",
       "total_rec_int             0\n",
       "last_pymnt_d             71\n",
       "last_pymnt_amnt           0\n",
       "dtype: int64"
      ]
     },
     "execution_count": 8,
     "metadata": {},
     "output_type": "execute_result"
    }
   ],
   "source": [
    "#Checking null values in pending columns\n",
    "df.isnull().sum()"
   ]
  },
  {
   "cell_type": "markdown",
   "id": "a6c50978",
   "metadata": {},
   "source": [
    "###  Filtering  the ‘Emp_Len’ column to extract the numerical value from the string. \n",
    "### such that < 1year, 2 years , 3 years as 1 , 2, 3 so on"
   ]
  },
  {
   "cell_type": "markdown",
   "id": "5885dcd6",
   "metadata": {},
   "source": [
    "#### Converting emp_length column that was in string to float datatype"
   ]
  },
  {
   "cell_type": "code",
   "execution_count": 9,
   "id": "8defafab",
   "metadata": {},
   "outputs": [
    {
     "data": {
      "text/plain": [
       "0        10.0\n",
       "1         1.0\n",
       "2        10.0\n",
       "3        10.0\n",
       "4         1.0\n",
       "         ... \n",
       "39712     4.0\n",
       "39713     3.0\n",
       "39714     1.0\n",
       "39715     1.0\n",
       "39716     1.0\n",
       "Name: emp_length, Length: 39717, dtype: float64"
      ]
     },
     "execution_count": 9,
     "metadata": {},
     "output_type": "execute_result"
    }
   ],
   "source": [
    "#Converting emp_length column that was in string to float datatype \n",
    "df['emp_length'] = df['emp_length'].str.extract('(\\d+)').astype(float)\n",
    "df[\"emp_length\"]"
   ]
  },
  {
   "cell_type": "markdown",
   "id": "14874848",
   "metadata": {},
   "source": [
    "####  Plot a box plot to visualize the distribution of the emp_length attribute"
   ]
  },
  {
   "cell_type": "code",
   "execution_count": 10,
   "id": "e873560d",
   "metadata": {},
   "outputs": [
    {
     "data": {
      "text/plain": [
       "<matplotlib.lines.Line2D at 0x1d3bd00edf0>"
      ]
     },
     "execution_count": 10,
     "metadata": {},
     "output_type": "execute_result"
    },
    {
     "data": {
      "image/png": "[encoded data removed]",
      "text/plain": [
       "<Figure size 432x288 with 1 Axes>"
      ]
     },
     "metadata": {
      "needs_background": "light"
     },
     "output_type": "display_data"
    }
   ],
   "source": [
    "# Plot a box plot to visualize the distribution of the emp_length attribute\n",
    "sns.boxplot(y=df.emp_length)\n",
    "\n",
    "# Display the mean line in the plot\n",
    "plt.axhline(y=df.emp_length.mean())"
   ]
  },
  {
   "cell_type": "markdown",
   "id": "cb7878fc",
   "metadata": {},
   "source": [
    "Since , the mean and median line are close to each other we can use mean to impute the null values."
   ]
  },
  {
   "cell_type": "markdown",
   "id": "f6fbcba3",
   "metadata": {},
   "source": [
    "#### Imputing the null values"
   ]
  },
  {
   "cell_type": "code",
   "execution_count": 11,
   "id": "549aeaa0",
   "metadata": {},
   "outputs": [
    {
     "data": {
      "text/html": [
       "<div>\n",
       "<style scoped>\n",
       "    .dataframe tbody tr th:only-of-type {\n",
       "        vertical-align: middle;\n",
       "    }\n",
       "\n",
       "    .dataframe tbody tr th {\n",
       "        vertical-align: top;\n",
       "    }\n",
       "\n",
       "    .dataframe thead th {\n",
       "        text-align: right;\n",
       "    }\n",
       "</style>\n",
       "<table border=\"1\" class=\"dataframe\">\n",
       "  <thead>\n",
       "    <tr style=\"text-align: right;\">\n",
       "      <th></th>\n",
       "      <th>id</th>\n",
       "      <th>member_id</th>\n",
       "      <th>loan_amnt</th>\n",
       "      <th>funded_amnt</th>\n",
       "      <th>funded_amnt_inv</th>\n",
       "      <th>term</th>\n",
       "      <th>int_rate</th>\n",
       "      <th>installment</th>\n",
       "      <th>grade</th>\n",
       "      <th>emp_length</th>\n",
       "      <th>...</th>\n",
       "      <th>verification_status</th>\n",
       "      <th>loan_status</th>\n",
       "      <th>purpose</th>\n",
       "      <th>dti</th>\n",
       "      <th>total_pymnt</th>\n",
       "      <th>total_pymnt_inv</th>\n",
       "      <th>total_rec_prncp</th>\n",
       "      <th>total_rec_int</th>\n",
       "      <th>last_pymnt_d</th>\n",
       "      <th>last_pymnt_amnt</th>\n",
       "    </tr>\n",
       "  </thead>\n",
       "  <tbody>\n",
       "    <tr>\n",
       "      <th>0</th>\n",
       "      <td>1077501</td>\n",
       "      <td>1296599</td>\n",
       "      <td>5000</td>\n",
       "      <td>5000</td>\n",
       "      <td>4975.0</td>\n",
       "      <td>36 months</td>\n",
       "      <td>10.65</td>\n",
       "      <td>162.87</td>\n",
       "      <td>B</td>\n",
       "      <td>10.0</td>\n",
       "      <td>...</td>\n",
       "      <td>Verified</td>\n",
       "      <td>Fully Paid</td>\n",
       "      <td>credit_card</td>\n",
       "      <td>27.65</td>\n",
       "      <td>5863.155187</td>\n",
       "      <td>5833.84</td>\n",
       "      <td>5000.00</td>\n",
       "      <td>863.16</td>\n",
       "      <td>Jan-15</td>\n",
       "      <td>171.62</td>\n",
       "    </tr>\n",
       "    <tr>\n",
       "      <th>1</th>\n",
       "      <td>1077430</td>\n",
       "      <td>1314167</td>\n",
       "      <td>2500</td>\n",
       "      <td>2500</td>\n",
       "      <td>2500.0</td>\n",
       "      <td>60 months</td>\n",
       "      <td>15.27</td>\n",
       "      <td>59.83</td>\n",
       "      <td>C</td>\n",
       "      <td>1.0</td>\n",
       "      <td>...</td>\n",
       "      <td>Source Verified</td>\n",
       "      <td>Charged Off</td>\n",
       "      <td>car</td>\n",
       "      <td>1.00</td>\n",
       "      <td>1008.710000</td>\n",
       "      <td>1008.71</td>\n",
       "      <td>456.46</td>\n",
       "      <td>435.17</td>\n",
       "      <td>Apr-13</td>\n",
       "      <td>119.66</td>\n",
       "    </tr>\n",
       "    <tr>\n",
       "      <th>2</th>\n",
       "      <td>1077175</td>\n",
       "      <td>1313524</td>\n",
       "      <td>2400</td>\n",
       "      <td>2400</td>\n",
       "      <td>2400.0</td>\n",
       "      <td>36 months</td>\n",
       "      <td>15.96</td>\n",
       "      <td>84.33</td>\n",
       "      <td>C</td>\n",
       "      <td>10.0</td>\n",
       "      <td>...</td>\n",
       "      <td>Not Verified</td>\n",
       "      <td>Fully Paid</td>\n",
       "      <td>small_business</td>\n",
       "      <td>8.72</td>\n",
       "      <td>3005.666844</td>\n",
       "      <td>3005.67</td>\n",
       "      <td>2400.00</td>\n",
       "      <td>605.67</td>\n",
       "      <td>Jun-14</td>\n",
       "      <td>649.91</td>\n",
       "    </tr>\n",
       "    <tr>\n",
       "      <th>3</th>\n",
       "      <td>1076863</td>\n",
       "      <td>1277178</td>\n",
       "      <td>10000</td>\n",
       "      <td>10000</td>\n",
       "      <td>10000.0</td>\n",
       "      <td>36 months</td>\n",
       "      <td>13.49</td>\n",
       "      <td>339.31</td>\n",
       "      <td>C</td>\n",
       "      <td>10.0</td>\n",
       "      <td>...</td>\n",
       "      <td>Source Verified</td>\n",
       "      <td>Fully Paid</td>\n",
       "      <td>other</td>\n",
       "      <td>20.00</td>\n",
       "      <td>12231.890000</td>\n",
       "      <td>12231.89</td>\n",
       "      <td>10000.00</td>\n",
       "      <td>2214.92</td>\n",
       "      <td>Jan-15</td>\n",
       "      <td>357.48</td>\n",
       "    </tr>\n",
       "    <tr>\n",
       "      <th>4</th>\n",
       "      <td>1075358</td>\n",
       "      <td>1311748</td>\n",
       "      <td>3000</td>\n",
       "      <td>3000</td>\n",
       "      <td>3000.0</td>\n",
       "      <td>60 months</td>\n",
       "      <td>12.69</td>\n",
       "      <td>67.79</td>\n",
       "      <td>B</td>\n",
       "      <td>1.0</td>\n",
       "      <td>...</td>\n",
       "      <td>Source Verified</td>\n",
       "      <td>Current</td>\n",
       "      <td>other</td>\n",
       "      <td>17.94</td>\n",
       "      <td>3513.330000</td>\n",
       "      <td>3513.33</td>\n",
       "      <td>2475.94</td>\n",
       "      <td>1037.39</td>\n",
       "      <td>May-16</td>\n",
       "      <td>67.79</td>\n",
       "    </tr>\n",
       "    <tr>\n",
       "      <th>...</th>\n",
       "      <td>...</td>\n",
       "      <td>...</td>\n",
       "      <td>...</td>\n",
       "      <td>...</td>\n",
       "      <td>...</td>\n",
       "      <td>...</td>\n",
       "      <td>...</td>\n",
       "      <td>...</td>\n",
       "      <td>...</td>\n",
       "      <td>...</td>\n",
       "      <td>...</td>\n",
       "      <td>...</td>\n",
       "      <td>...</td>\n",
       "      <td>...</td>\n",
       "      <td>...</td>\n",
       "      <td>...</td>\n",
       "      <td>...</td>\n",
       "      <td>...</td>\n",
       "      <td>...</td>\n",
       "      <td>...</td>\n",
       "      <td>...</td>\n",
       "    </tr>\n",
       "    <tr>\n",
       "      <th>39712</th>\n",
       "      <td>92187</td>\n",
       "      <td>92174</td>\n",
       "      <td>2500</td>\n",
       "      <td>2500</td>\n",
       "      <td>1075.0</td>\n",
       "      <td>36 months</td>\n",
       "      <td>8.07</td>\n",
       "      <td>78.42</td>\n",
       "      <td>A</td>\n",
       "      <td>4.0</td>\n",
       "      <td>...</td>\n",
       "      <td>Not Verified</td>\n",
       "      <td>Fully Paid</td>\n",
       "      <td>home_improvement</td>\n",
       "      <td>11.33</td>\n",
       "      <td>2822.969293</td>\n",
       "      <td>1213.88</td>\n",
       "      <td>2500.00</td>\n",
       "      <td>322.97</td>\n",
       "      <td>Jul-10</td>\n",
       "      <td>80.90</td>\n",
       "    </tr>\n",
       "    <tr>\n",
       "      <th>39713</th>\n",
       "      <td>90665</td>\n",
       "      <td>90607</td>\n",
       "      <td>8500</td>\n",
       "      <td>8500</td>\n",
       "      <td>875.0</td>\n",
       "      <td>36 months</td>\n",
       "      <td>10.28</td>\n",
       "      <td>275.38</td>\n",
       "      <td>C</td>\n",
       "      <td>3.0</td>\n",
       "      <td>...</td>\n",
       "      <td>Not Verified</td>\n",
       "      <td>Fully Paid</td>\n",
       "      <td>credit_card</td>\n",
       "      <td>6.40</td>\n",
       "      <td>9913.491822</td>\n",
       "      <td>1020.51</td>\n",
       "      <td>8500.00</td>\n",
       "      <td>1413.49</td>\n",
       "      <td>Jul-10</td>\n",
       "      <td>281.94</td>\n",
       "    </tr>\n",
       "    <tr>\n",
       "      <th>39714</th>\n",
       "      <td>90395</td>\n",
       "      <td>90390</td>\n",
       "      <td>5000</td>\n",
       "      <td>5000</td>\n",
       "      <td>1325.0</td>\n",
       "      <td>36 months</td>\n",
       "      <td>8.07</td>\n",
       "      <td>156.84</td>\n",
       "      <td>A</td>\n",
       "      <td>1.0</td>\n",
       "      <td>...</td>\n",
       "      <td>Not Verified</td>\n",
       "      <td>Fully Paid</td>\n",
       "      <td>debt_consolidation</td>\n",
       "      <td>2.30</td>\n",
       "      <td>5272.161128</td>\n",
       "      <td>1397.12</td>\n",
       "      <td>5000.00</td>\n",
       "      <td>272.16</td>\n",
       "      <td>Apr-08</td>\n",
       "      <td>0.00</td>\n",
       "    </tr>\n",
       "    <tr>\n",
       "      <th>39715</th>\n",
       "      <td>90376</td>\n",
       "      <td>89243</td>\n",
       "      <td>5000</td>\n",
       "      <td>5000</td>\n",
       "      <td>650.0</td>\n",
       "      <td>36 months</td>\n",
       "      <td>7.43</td>\n",
       "      <td>155.38</td>\n",
       "      <td>A</td>\n",
       "      <td>1.0</td>\n",
       "      <td>...</td>\n",
       "      <td>Not Verified</td>\n",
       "      <td>Fully Paid</td>\n",
       "      <td>other</td>\n",
       "      <td>3.72</td>\n",
       "      <td>5174.198551</td>\n",
       "      <td>672.66</td>\n",
       "      <td>5000.00</td>\n",
       "      <td>174.20</td>\n",
       "      <td>Jan-08</td>\n",
       "      <td>0.00</td>\n",
       "    </tr>\n",
       "    <tr>\n",
       "      <th>39716</th>\n",
       "      <td>87023</td>\n",
       "      <td>86999</td>\n",
       "      <td>7500</td>\n",
       "      <td>7500</td>\n",
       "      <td>800.0</td>\n",
       "      <td>36 months</td>\n",
       "      <td>13.75</td>\n",
       "      <td>255.43</td>\n",
       "      <td>E</td>\n",
       "      <td>1.0</td>\n",
       "      <td>...</td>\n",
       "      <td>Not Verified</td>\n",
       "      <td>Fully Paid</td>\n",
       "      <td>debt_consolidation</td>\n",
       "      <td>14.29</td>\n",
       "      <td>9195.263334</td>\n",
       "      <td>980.83</td>\n",
       "      <td>7500.00</td>\n",
       "      <td>1695.26</td>\n",
       "      <td>Jun-10</td>\n",
       "      <td>256.59</td>\n",
       "    </tr>\n",
       "  </tbody>\n",
       "</table>\n",
       "<p>39717 rows × 21 columns</p>\n",
       "</div>"
      ],
      "text/plain": [
       "            id  member_id  loan_amnt  funded_amnt  funded_amnt_inv  \\\n",
       "0      1077501    1296599       5000         5000           4975.0   \n",
       "1      1077430    1314167       2500         2500           2500.0   \n",
       "2      1077175    1313524       2400         2400           2400.0   \n",
       "3      1076863    1277178      10000        10000          10000.0   \n",
       "4      1075358    1311748       3000         3000           3000.0   \n",
       "...        ...        ...        ...          ...              ...   \n",
       "39712    92187      92174       2500         2500           1075.0   \n",
       "39713    90665      90607       8500         8500            875.0   \n",
       "39714    90395      90390       5000         5000           1325.0   \n",
       "39715    90376      89243       5000         5000            650.0   \n",
       "39716    87023      86999       7500         7500            800.0   \n",
       "\n",
       "             term  int_rate  installment grade  emp_length  ...  \\\n",
       "0       36 months     10.65       162.87     B        10.0  ...   \n",
       "1       60 months     15.27        59.83     C         1.0  ...   \n",
       "2       36 months     15.96        84.33     C        10.0  ...   \n",
       "3       36 months     13.49       339.31     C        10.0  ...   \n",
       "4       60 months     12.69        67.79     B         1.0  ...   \n",
       "...           ...       ...          ...   ...         ...  ...   \n",
       "39712   36 months      8.07        78.42     A         4.0  ...   \n",
       "39713   36 months     10.28       275.38     C         3.0  ...   \n",
       "39714   36 months      8.07       156.84     A         1.0  ...   \n",
       "39715   36 months      7.43       155.38     A         1.0  ...   \n",
       "39716   36 months     13.75       255.43     E         1.0  ...   \n",
       "\n",
       "       verification_status  loan_status             purpose    dti  \\\n",
       "0                 Verified   Fully Paid         credit_card  27.65   \n",
       "1          Source Verified  Charged Off                 car   1.00   \n",
       "2             Not Verified   Fully Paid      small_business   8.72   \n",
       "3          Source Verified   Fully Paid               other  20.00   \n",
       "4          Source Verified      Current               other  17.94   \n",
       "...                    ...          ...                 ...    ...   \n",
       "39712         Not Verified   Fully Paid    home_improvement  11.33   \n",
       "39713         Not Verified   Fully Paid         credit_card   6.40   \n",
       "39714         Not Verified   Fully Paid  debt_consolidation   2.30   \n",
       "39715         Not Verified   Fully Paid               other   3.72   \n",
       "39716         Not Verified   Fully Paid  debt_consolidation  14.29   \n",
       "\n",
       "        total_pymnt  total_pymnt_inv  total_rec_prncp  total_rec_int  \\\n",
       "0       5863.155187          5833.84          5000.00         863.16   \n",
       "1       1008.710000          1008.71           456.46         435.17   \n",
       "2       3005.666844          3005.67          2400.00         605.67   \n",
       "3      12231.890000         12231.89         10000.00        2214.92   \n",
       "4       3513.330000          3513.33          2475.94        1037.39   \n",
       "...             ...              ...              ...            ...   \n",
       "39712   2822.969293          1213.88          2500.00         322.97   \n",
       "39713   9913.491822          1020.51          8500.00        1413.49   \n",
       "39714   5272.161128          1397.12          5000.00         272.16   \n",
       "39715   5174.198551           672.66          5000.00         174.20   \n",
       "39716   9195.263334           980.83          7500.00        1695.26   \n",
       "\n",
       "       last_pymnt_d last_pymnt_amnt  \n",
       "0            Jan-15          171.62  \n",
       "1            Apr-13          119.66  \n",
       "2            Jun-14          649.91  \n",
       "3            Jan-15          357.48  \n",
       "4            May-16           67.79  \n",
       "...             ...             ...  \n",
       "39712        Jul-10           80.90  \n",
       "39713        Jul-10          281.94  \n",
       "39714        Apr-08            0.00  \n",
       "39715        Jan-08            0.00  \n",
       "39716        Jun-10          256.59  \n",
       "\n",
       "[39717 rows x 21 columns]"
      ]
     },
     "execution_count": 11,
     "metadata": {},
     "output_type": "execute_result"
    }
   ],
   "source": [
    "#Impute null values in emp_length column with mean value\n",
    "df.emp_length.fillna(df.emp_length.mean(),inplace=True)\n",
    "\n",
    "#Impute null values in last_pymnt_d column with mode value\n",
    "df.last_pymnt_d.fillna(df.last_pymnt_d.mode().values[0],inplace=True)\n",
    "df"
   ]
  },
  {
   "cell_type": "markdown",
   "id": "5d1f805e",
   "metadata": {},
   "source": [
    "#### Checking pending null values"
   ]
  },
  {
   "cell_type": "code",
   "execution_count": 12,
   "id": "d104de3c",
   "metadata": {},
   "outputs": [
    {
     "data": {
      "text/plain": [
       "id                     0\n",
       "member_id              0\n",
       "loan_amnt              0\n",
       "funded_amnt            0\n",
       "funded_amnt_inv        0\n",
       "term                   0\n",
       "int_rate               0\n",
       "installment            0\n",
       "grade                  0\n",
       "emp_length             0\n",
       "annual_inc             0\n",
       "verification_status    0\n",
       "loan_status            0\n",
       "purpose                0\n",
       "dti                    0\n",
       "total_pymnt            0\n",
       "total_pymnt_inv        0\n",
       "total_rec_prncp        0\n",
       "total_rec_int          0\n",
       "last_pymnt_d           0\n",
       "last_pymnt_amnt        0\n",
       "dtype: int64"
      ]
     },
     "execution_count": 12,
     "metadata": {},
     "output_type": "execute_result"
    }
   ],
   "source": [
    "#Checking pending null values\n",
    "df.isnull().sum()"
   ]
  },
  {
   "cell_type": "markdown",
   "id": "1bdc3c56",
   "metadata": {},
   "source": [
    "### Preprocessing and finding insights"
   ]
  },
  {
   "cell_type": "markdown",
   "id": "e9556be1",
   "metadata": {},
   "source": [
    "#### Find the value counts of the ‘loan_status’"
   ]
  },
  {
   "cell_type": "code",
   "execution_count": 13,
   "id": "45b2c83b",
   "metadata": {},
   "outputs": [
    {
     "data": {
      "text/plain": [
       "Fully Paid     32950\n",
       "Charged Off     5627\n",
       "Current         1140\n",
       "Name: loan_status, dtype: int64"
      ]
     },
     "execution_count": 13,
     "metadata": {},
     "output_type": "execute_result"
    }
   ],
   "source": [
    "# count of each status in loan_status column\n",
    "df[\"loan_status\"].value_counts() "
   ]
  },
  {
   "cell_type": "markdown",
   "id": "b1cf531a",
   "metadata": {},
   "source": [
    "#### Filter only the ‘fully paid’ and ‘charged off’ categories"
   ]
  },
  {
   "cell_type": "code",
   "execution_count": 14,
   "id": "2fbb6aa5",
   "metadata": {},
   "outputs": [],
   "source": [
    "# Filter out fully paid and charged off categories\n",
    "d=df[df[\"loan_status\"] != \"Current\"] "
   ]
  },
  {
   "cell_type": "markdown",
   "id": "d0158b74",
   "metadata": {},
   "source": [
    "#### After filtering fully paid’ and ‘charged off’ categories"
   ]
  },
  {
   "cell_type": "code",
   "execution_count": 15,
   "id": "a7a12918",
   "metadata": {},
   "outputs": [
    {
     "data": {
      "text/plain": [
       "Fully Paid     32950\n",
       "Charged Off     5627\n",
       "Name: loan_status, dtype: int64"
      ]
     },
     "execution_count": 15,
     "metadata": {},
     "output_type": "execute_result"
    }
   ],
   "source": [
    "#count of each status in loan_status column after removing current value\n",
    "d[\"loan_status\"].value_counts() "
   ]
  },
  {
   "cell_type": "markdown",
   "id": "9a430ba0",
   "metadata": {},
   "source": [
    "### Removing the month from the ‘term’ column such that ‘36 months’, ‘60 months’ appear as 36 and 60 respectively."
   ]
  },
  {
   "cell_type": "markdown",
   "id": "694a665c",
   "metadata": {},
   "source": [
    "#### Removing the month from the ‘term’ column"
   ]
  },
  {
   "cell_type": "code",
   "execution_count": 16,
   "id": "fed35ab9",
   "metadata": {},
   "outputs": [
    {
     "data": {
      "text/plain": [
       "0        36.0\n",
       "1        60.0\n",
       "2        36.0\n",
       "3        36.0\n",
       "4        60.0\n",
       "         ... \n",
       "39712    36.0\n",
       "39713    36.0\n",
       "39714    36.0\n",
       "39715    36.0\n",
       "39716    36.0\n",
       "Name: term, Length: 39717, dtype: float64"
      ]
     },
     "execution_count": 16,
     "metadata": {},
     "output_type": "execute_result"
    }
   ],
   "source": [
    "# Remove month from term column using lambda function\n",
    "df[\"term\"]=df[\"term\"].apply(lambda x: float(x.strip(' ')[0:2])) \n",
    "df[\"term\"]"
   ]
  },
  {
   "cell_type": "markdown",
   "id": "a2b33a33",
   "metadata": {},
   "source": [
    "###  Creating a new column as risky_loan_applicant by comparing loan_amnt and funded_amnt with the following criteria - If loan_amnt is less than equals to funded_amnt then ‘0’ else ‘1’."
   ]
  },
  {
   "cell_type": "code",
   "execution_count": 17,
   "id": "67ab9dc2",
   "metadata": {},
   "outputs": [
    {
     "data": {
      "text/plain": [
       "0        0\n",
       "1        0\n",
       "2        0\n",
       "3        0\n",
       "4        0\n",
       "        ..\n",
       "39712    0\n",
       "39713    0\n",
       "39714    0\n",
       "39715    0\n",
       "39716    0\n",
       "Name: risky_loan_applicant, Length: 39717, dtype: int64"
      ]
     },
     "execution_count": 17,
     "metadata": {},
     "output_type": "execute_result"
    }
   ],
   "source": [
    "#setting loan amount to 0 if it is less than funded_amnt using lambda function\n",
    "df[\"risky_loan_applicant\"] = df.apply(lambda x : 0 if x[\"loan_amnt\"] <= x[\"funded_amnt\"] else 1,axis=1) \n",
    "df[\"risky_loan_applicant\"]"
   ]
  },
  {
   "cell_type": "code",
   "execution_count": 18,
   "id": "97507375",
   "metadata": {},
   "outputs": [
    {
     "data": {
      "text/plain": [
       "0    37868\n",
       "1     1849\n",
       "Name: risky_loan_applicant, dtype: int64"
      ]
     },
     "execution_count": 18,
     "metadata": {},
     "output_type": "execute_result"
    }
   ],
   "source": [
    "df[\"risky_loan_applicant\"].value_counts()"
   ]
  },
  {
   "cell_type": "markdown",
   "id": "9f51c808",
   "metadata": {},
   "source": [
    "### Using the bar plot visualize the loan_status column against categorical column grade, term, verification_status . Write the observation from each graph."
   ]
  },
  {
   "cell_type": "markdown",
   "id": "4a82fca4",
   "metadata": {},
   "source": [
    "#### Barplot loan_status vs grade"
   ]
  },
  {
   "cell_type": "code",
   "execution_count": 56,
   "id": "31e44d7e",
   "metadata": {},
   "outputs": [
    {
     "data": {
      "text/plain": [
       "<AxesSubplot:xlabel='loan_status'>"
      ]
     },
     "execution_count": 56,
     "metadata": {},
     "output_type": "execute_result"
    },
    {
     "data": {
      "image/png": "[encoded data removed]",
      "text/plain": [
       "<Figure size 640x480 with 1 Axes>"
      ]
     },
     "metadata": {},
     "output_type": "display_data"
    }
   ],
   "source": [
    "# plot bar plot using loan status vs grade\n",
    "pd.crosstab(df['loan_status'],df['grade']).plot(kind='bar')"
   ]
  },
  {
   "cell_type": "markdown",
   "id": "7273b012",
   "metadata": {},
   "source": [
    "Above plot shows more no of people fall under grade B of each loan status so we conclude that people in Grade B are at the less risk criteria. Grades are given based on credit score of the person where grade A have the lowest expected risk of loss and G have the highest expected risk of loss so special attention need to be given while granting loans to people in grade G.\n"
   ]
  },
  {
   "cell_type": "markdown",
   "id": "b30a315d",
   "metadata": {},
   "source": [
    "### Barplot loan_status vs term"
   ]
  },
  {
   "cell_type": "code",
   "execution_count": 57,
   "id": "b543e781",
   "metadata": {},
   "outputs": [
    {
     "data": {
      "text/plain": [
       "<AxesSubplot:xlabel='loan_status'>"
      ]
     },
     "execution_count": 57,
     "metadata": {},
     "output_type": "execute_result"
    },
    {
     "data": {
      "image/png": "[encoded data removed]",
      "text/plain": [
       "<Figure size 640x480 with 1 Axes>"
      ]
     },
     "metadata": {},
     "output_type": "display_data"
    }
   ],
   "source": [
    "#plot bar plot using loan status vs term\n",
    "pd.crosstab(df['loan_status'],df['term']).plot(kind='bar') "
   ]
  },
  {
   "cell_type": "markdown",
   "id": "c0629c67",
   "metadata": {},
   "source": [
    "Above plot shows most of the fully paid  and charged off loan status comes under 36 months term duration and few of them have paid their loan in 60 months duration, current loan status shows every person opted for 60 months term duration and none of the current loan status falls in 36 months duration. count of charged off status is less when compared to fully paid.so It shows that 20% people are at high risk."
   ]
  },
  {
   "cell_type": "markdown",
   "id": "59551fb7",
   "metadata": {},
   "source": [
    "### Barplot loan_status vs verification_status"
   ]
  },
  {
   "cell_type": "code",
   "execution_count": 58,
   "id": "8920c1d8",
   "metadata": {},
   "outputs": [
    {
     "data": {
      "text/plain": [
       "<AxesSubplot:xlabel='loan_status'>"
      ]
     },
     "execution_count": 58,
     "metadata": {},
     "output_type": "execute_result"
    },
    {
     "data": {
      "image/png": "[encoded data removed]",
      "text/plain": [
       "<Figure size 640x480 with 1 Axes>"
      ]
     },
     "metadata": {},
     "output_type": "display_data"
    }
   ],
   "source": [
    "#plot bar plot using loan status vs verification status\n",
    "pd.crosstab(df['loan_status'],df['verification_status']).plot(kind='bar') "
   ]
  },
  {
   "cell_type": "markdown",
   "id": "97d1688d",
   "metadata": {},
   "source": [
    "* From the above graph we can see that among the people who are in charged off status,the count of people who have not verified and those who have verified seems to be almost same.\n",
    "* Also it is conclusive that there are high number of people who have fully paid the loan amount, eventhough the number of people who have source verified their status seems to be lesser than the ones who have not verified their loan status"
   ]
  },
  {
   "cell_type": "markdown",
   "id": "7eefb33b",
   "metadata": {},
   "source": [
    "#### converting  the ‘emp_len’ column into categorical column"
   ]
  },
  {
   "cell_type": "markdown",
   "id": "861f679f",
   "metadata": {},
   "source": [
    "#### If emp_len is less than equals to 1 then  ‘fresher’."
   ]
  },
  {
   "cell_type": "markdown",
   "id": "1cf57b1d",
   "metadata": {},
   "source": [
    "#### If emp_len is greater than 1 and less than 3 then ‘junior’."
   ]
  },
  {
   "cell_type": "markdown",
   "id": "f865f6c6",
   "metadata": {},
   "source": [
    "#### If emp_len is greater than 3 and less than 7 then ‘senior’"
   ]
  },
  {
   "cell_type": "markdown",
   "id": "a1b35e8a",
   "metadata": {},
   "source": [
    "#### If emp_len is greater than 7 then ‘expert’."
   ]
  },
  {
   "cell_type": "code",
   "execution_count": 59,
   "id": "353ec3c7",
   "metadata": {},
   "outputs": [
    {
     "data": {
      "text/plain": [
       "0         expert\n",
       "1        fresher\n",
       "2         expert\n",
       "3         expert\n",
       "4        fresher\n",
       "          ...   \n",
       "39712     senior\n",
       "39713     expert\n",
       "39714    fresher\n",
       "39715    fresher\n",
       "39716    fresher\n",
       "Name: emp_length, Length: 39717, dtype: object"
      ]
     },
     "execution_count": 59,
     "metadata": {},
     "output_type": "execute_result"
    }
   ],
   "source": [
    "# defining a function\n",
    "def fun(x): \n",
    "    if x <= 1:\n",
    "        return \"fresher\"\n",
    "    elif x > 1 and x < 3:\n",
    "        return \"junior\"\n",
    "    elif x > 3 and x < 7:\n",
    "        return \"senior\"\n",
    "    else:\n",
    "        return \"expert\"\n",
    "# applying user defined function in emp_length table   \n",
    "df[\"emp_length\"] = df[\"emp_length\"].apply(fun)\n",
    "df[\"emp_length\"]"
   ]
  },
  {
   "cell_type": "markdown",
   "id": "bc18e778",
   "metadata": {},
   "source": [
    "### sum of ‘loan_amnt’ for each grade and display the distribution of ‘loan_amnt’ using a pie plot."
   ]
  },
  {
   "cell_type": "markdown",
   "id": "ee973a4b",
   "metadata": {},
   "source": [
    "#### sum of ‘loan_amnt’ for each grade"
   ]
  },
  {
   "cell_type": "code",
   "execution_count": 60,
   "id": "bb04f4fc",
   "metadata": {},
   "outputs": [
    {
     "data": {
      "text/plain": [
       "grade\n",
       "A     86982400\n",
       "B    133651350\n",
       "C     89115825\n",
       "D     65160400\n",
       "E     45037900\n",
       "F     19263100\n",
       "G      6391675\n",
       "Name: loan_amnt, dtype: int64"
      ]
     },
     "execution_count": 60,
     "metadata": {},
     "output_type": "execute_result"
    }
   ],
   "source": [
    "# extract sum of loan amount based on grade\n",
    "grade_sum =  df.groupby(\"grade\")[\"loan_amnt\"].sum()\n",
    "grade_sum"
   ]
  },
  {
   "cell_type": "markdown",
   "id": "66344557",
   "metadata": {},
   "source": [
    "#### Distribution using Pie plot"
   ]
  },
  {
   "cell_type": "code",
   "execution_count": 61,
   "id": "a539279e",
   "metadata": {},
   "outputs": [
    {
     "data": {
      "image/png": "[encoded data removed]",
      "text/plain": [
       "<Figure size 800x800 with 1 Axes>"
      ]
     },
     "metadata": {},
     "output_type": "display_data"
    }
   ],
   "source": [
    "plt.figure(figsize=(8, 8)) # Figure size \n",
    "\n",
    "plt.title(\"Distribution of Loan Amount\", fontsize=16) # Display title in the given font size\n",
    "pie = grade_sum.plot(kind=\"pie\", autopct='%1.1f%%') # plot a pie plot using sum of loan amount for each grade\n",
    "\n",
    "plt.legend(loc=\"upper right\", bbox_to_anchor=(1.2, 1)) # Display each grades on top right\n",
    "\n",
    "plt.show() # display the plot\n"
   ]
  },
  {
   "cell_type": "markdown",
   "id": "57e8201a",
   "metadata": {},
   "source": [
    "From the graph it can be concluded that grade B has the highest percentage and grade G has the lowest percentage of loan amount."
   ]
  },
  {
   "cell_type": "markdown",
   "id": "152b6dfa",
   "metadata": {},
   "source": [
    "<a id=\"conclusion\"> <a>\n",
    "# Conclusion"
   ]
  },
  {
   "cell_type": "markdown",
   "id": "247ebac0",
   "metadata": {},
   "source": [
    "* In this Case study we were provided with Loans dataset with the aim to identify variables which indicate if a person is likely to default.So,we have to identify the risky loan applicants to avoid any financial loss to the company.\n",
    "* Here we have performed discriptive analysis of the data set using python libraries to clean , process, analyse and visualize the data and has provided some insightful information of risky applicants to the company to prevent them from any financial loss in future.\n",
    "* We have compared loan status of people with grades,term duration and verification status using graphs.From the graph we found that for each status the count of risky loan applicants are comparatively less when we compare them to the people paying their debts regularly without any lag.\n",
    "* People with grade G has the lowest credit score and they are provided with lowest percentage of loan amount. We can see from the graphs that those people falls under grade G are less and they likely to violate. It is better to perform a complete verification and documentation for grade G people before giving loans because they can be potential risky applicants in future."
   ]
  }
 ],
 "metadata": {
  "kernelspec": {
   "display_name": "Python 3 (ipykernel)",
   "language": "python",
   "name": "python3"
  },
  "language_info": {
   "codemirror_mode": {
    "name": "ipython",
    "version": 3
   },
   "file_extension": ".py",
   "mimetype": "text/x-python",
   "name": "python",
   "nbconvert_exporter": "python",
   "pygments_lexer": "ipython3",
   "version": "3.9.12"
  }
 },
 "nbformat": 4,
 "nbformat_minor": 5
}
